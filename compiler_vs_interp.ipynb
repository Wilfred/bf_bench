{
 "cells": [
  {
   "cell_type": "code",
   "execution_count": 1,
   "metadata": {
    "collapsed": false
   },
   "outputs": [
    {
     "name": "stdout",
     "output_type": "stream",
     "text": [
      "Populating the interactive namespace from numpy and matplotlib\n"
     ]
    }
   ],
   "source": [
    "%pylab inline"
   ]
  },
  {
   "cell_type": "code",
   "execution_count": 2,
   "metadata": {
    "collapsed": true
   },
   "outputs": [],
   "source": [
    "import pandas as pd"
   ]
  },
  {
   "cell_type": "code",
   "execution_count": 87,
   "metadata": {
    "collapsed": true
   },
   "outputs": [],
   "source": [
    "arr = np.array([[0.006530046463012695, 0.007523775100708008, 0.00884556770324707, 0.007193565368652344, 0.0073223114013671875, 0.007192850112915039, 0.007002830505371094, 0.006795406341552734, 0.006781339645385742, 0.006797313690185547],\n",
    " [0.0067021846771240234, 0.00670313835144043, 0.00656580924987793, 0.009784221649169922, 0.006825685501098633, 0.006250858306884766, 0.006429910659790039, 0.006851673126220703, 0.007477521896362305, 0.006861209869384766],\n",
    " [2.9232001304626465, 2.9494049549102783, 2.974360466003418, 2.918715238571167, 2.942389965057373, 2.9718451499938965, 2.9757118225097656, 2.936370849609375, 2.917069673538208, 2.932178497314453],\n",
    " [0.01242828369140625, 0.012827396392822266, 0.01281881332397461, 0.01226496696472168, 0.01219940185546875, 0.012416362762451172, 0.012041330337524414, 0.016979455947875977, 0.012425422668457031, 0.012301206588745117],\n",
    " [0.20218157768249512, 0.19587492942810059, 0.1921994686126709, 0.20357227325439453, 0.18834209442138672, 0.18635010719299316, 0.1866283416748047, 0.18644452095031738, 0.18576812744140625, 0.1856827735900879],\n",
    " [0.009939193725585938, 0.010601997375488281, 0.011214971542358398, 0.012594461441040039, 0.01412510871887207, 0.010721921920776367, 0.01064753532409668, 0.00980997085571289, 0.009852170944213867, 0.009815454483032227],\n",
    " [0.06856822967529297, 0.0666511058807373, 0.07289004325866699, 0.06677031517028809, 0.06664609909057617, 0.0667273998260498, 0.0669560432434082, 0.0666501522064209, 0.06663250923156738, 0.0667271614074707],\n",
    " [0.0065424442291259766, 0.00929117202758789, 0.0068743228912353516, 0.007023334503173828, 0.007067680358886719, 0.006847381591796875, 0.006819248199462891, 0.006840944290161133, 0.006776332855224609, 0.006775856018066406],\n",
    "])\n"
   ]
  },
  {
   "cell_type": "code",
   "execution_count": 88,
   "metadata": {
    "collapsed": false
   },
   "outputs": [
    {
     "data": {
      "text/plain": [
       "[array(['hello', 'hello', 'bottles', 'bottles', 'squares', 'squares',\n",
       "        'fibs', 'fibs'], \n",
       "       dtype='<U7'),\n",
       " array(['interpreted', 'compiled', 'interpreted', 'compiled', 'interpreted',\n",
       "        'compiled', 'interpreted', 'compiled'], \n",
       "       dtype='<U11')]"
      ]
     },
     "execution_count": 88,
     "metadata": {},
     "output_type": "execute_result"
    }
   ],
   "source": [
    "index = [\n",
    "    np.array([\"hello\", \"hello\", \"bottles\", \"bottles\", \"squares\", \"squares\", \"fibs\", \"fibs\"]),\n",
    "    np.array([\"interpreted\", \"compiled\"] * 4)\n",
    "]\n",
    "index"
   ]
  },
  {
   "cell_type": "code",
   "execution_count": 89,
   "metadata": {
    "collapsed": false
   },
   "outputs": [],
   "source": [
    "p = pd.DataFrame(arr, index=index)\n",
    "p = p.T"
   ]
  },
  {
   "cell_type": "code",
   "execution_count": 56,
   "metadata": {
    "collapsed": false
   },
   "outputs": [
    {
     "data": {
      "text/plain": [
       "<matplotlib.axes._subplots.AxesSubplot at 0xafec046c>"
      ]
     },
     "execution_count": 56,
     "metadata": {},
     "output_type": "execute_result"
    },
    {
     "data": {
      "image/png": "[encoded data removed]",
      "text/plain": [
       "<matplotlib.figure.Figure at 0xafec384c>"
      ]
     },
     "metadata": {},
     "output_type": "display_data"
    }
   ],
   "source": [
    "p.plot(kind='box')"
   ]
  },
  {
   "cell_type": "code",
   "execution_count": 57,
   "metadata": {
    "collapsed": false
   },
   "outputs": [
    {
     "data": {
      "text/html": [
       "<div>\n",
       "<table border=\"1\" class=\"dataframe\">\n",
       "  <thead>\n",
       "    <tr>\n",
       "      <th></th>\n",
       "      <th colspan=\"2\" halign=\"left\">hello</th>\n",
       "      <th colspan=\"2\" halign=\"left\">bottles</th>\n",
       "      <th colspan=\"2\" halign=\"left\">squares</th>\n",
       "      <th colspan=\"2\" halign=\"left\">fibs</th>\n",
       "    </tr>\n",
       "    <tr>\n",
       "      <th></th>\n",
       "      <th>interpreted</th>\n",
       "      <th>compiled</th>\n",
       "      <th>interpreted</th>\n",
       "      <th>compiled</th>\n",
       "      <th>interpreted</th>\n",
       "      <th>compiled</th>\n",
       "      <th>interpreted</th>\n",
       "      <th>compiled</th>\n",
       "    </tr>\n",
       "  </thead>\n",
       "  <tbody>\n",
       "    <tr>\n",
       "      <th>0</th>\n",
       "      <td>0.006530</td>\n",
       "      <td>0.006702</td>\n",
       "      <td>2.923200</td>\n",
       "      <td>0.012428</td>\n",
       "      <td>0.202182</td>\n",
       "      <td>0.009939</td>\n",
       "      <td>0.068568</td>\n",
       "      <td>0.006542</td>\n",
       "    </tr>\n",
       "    <tr>\n",
       "      <th>1</th>\n",
       "      <td>0.007524</td>\n",
       "      <td>0.006703</td>\n",
       "      <td>2.949405</td>\n",
       "      <td>0.012827</td>\n",
       "      <td>0.195875</td>\n",
       "      <td>0.010602</td>\n",
       "      <td>0.066651</td>\n",
       "      <td>0.009291</td>\n",
       "    </tr>\n",
       "    <tr>\n",
       "      <th>2</th>\n",
       "      <td>0.008846</td>\n",
       "      <td>0.006566</td>\n",
       "      <td>2.974360</td>\n",
       "      <td>0.012819</td>\n",
       "      <td>0.192199</td>\n",
       "      <td>0.011215</td>\n",
       "      <td>0.072890</td>\n",
       "      <td>0.006874</td>\n",
       "    </tr>\n",
       "    <tr>\n",
       "      <th>3</th>\n",
       "      <td>0.007194</td>\n",
       "      <td>0.009784</td>\n",
       "      <td>2.918715</td>\n",
       "      <td>0.012265</td>\n",
       "      <td>0.203572</td>\n",
       "      <td>0.012594</td>\n",
       "      <td>0.066770</td>\n",
       "      <td>0.007023</td>\n",
       "    </tr>\n",
       "    <tr>\n",
       "      <th>4</th>\n",
       "      <td>0.007322</td>\n",
       "      <td>0.006826</td>\n",
       "      <td>2.942390</td>\n",
       "      <td>0.012199</td>\n",
       "      <td>0.188342</td>\n",
       "      <td>0.014125</td>\n",
       "      <td>0.066646</td>\n",
       "      <td>0.007068</td>\n",
       "    </tr>\n",
       "    <tr>\n",
       "      <th>5</th>\n",
       "      <td>0.007193</td>\n",
       "      <td>0.006251</td>\n",
       "      <td>2.971845</td>\n",
       "      <td>0.012416</td>\n",
       "      <td>0.186350</td>\n",
       "      <td>0.010722</td>\n",
       "      <td>0.066727</td>\n",
       "      <td>0.006847</td>\n",
       "    </tr>\n",
       "    <tr>\n",
       "      <th>6</th>\n",
       "      <td>0.007003</td>\n",
       "      <td>0.006430</td>\n",
       "      <td>2.975712</td>\n",
       "      <td>0.012041</td>\n",
       "      <td>0.186628</td>\n",
       "      <td>0.010648</td>\n",
       "      <td>0.066956</td>\n",
       "      <td>0.006819</td>\n",
       "    </tr>\n",
       "    <tr>\n",
       "      <th>7</th>\n",
       "      <td>0.006795</td>\n",
       "      <td>0.006852</td>\n",
       "      <td>2.936371</td>\n",
       "      <td>0.016979</td>\n",
       "      <td>0.186445</td>\n",
       "      <td>0.009810</td>\n",
       "      <td>0.066650</td>\n",
       "      <td>0.006841</td>\n",
       "    </tr>\n",
       "    <tr>\n",
       "      <th>8</th>\n",
       "      <td>0.006781</td>\n",
       "      <td>0.007478</td>\n",
       "      <td>2.917070</td>\n",
       "      <td>0.012425</td>\n",
       "      <td>0.185768</td>\n",
       "      <td>0.009852</td>\n",
       "      <td>0.066633</td>\n",
       "      <td>0.006776</td>\n",
       "    </tr>\n",
       "    <tr>\n",
       "      <th>9</th>\n",
       "      <td>0.006797</td>\n",
       "      <td>0.006861</td>\n",
       "      <td>2.932178</td>\n",
       "      <td>0.012301</td>\n",
       "      <td>0.185683</td>\n",
       "      <td>0.009815</td>\n",
       "      <td>0.066727</td>\n",
       "      <td>0.006776</td>\n",
       "    </tr>\n",
       "  </tbody>\n",
       "</table>\n",
       "</div>"
      ],
      "text/plain": [
       "        hello               bottles               squares            \\\n",
       "  interpreted  compiled interpreted  compiled interpreted  compiled   \n",
       "0    0.006530  0.006702    2.923200  0.012428    0.202182  0.009939   \n",
       "1    0.007524  0.006703    2.949405  0.012827    0.195875  0.010602   \n",
       "2    0.008846  0.006566    2.974360  0.012819    0.192199  0.011215   \n",
       "3    0.007194  0.009784    2.918715  0.012265    0.203572  0.012594   \n",
       "4    0.007322  0.006826    2.942390  0.012199    0.188342  0.014125   \n",
       "5    0.007193  0.006251    2.971845  0.012416    0.186350  0.010722   \n",
       "6    0.007003  0.006430    2.975712  0.012041    0.186628  0.010648   \n",
       "7    0.006795  0.006852    2.936371  0.016979    0.186445  0.009810   \n",
       "8    0.006781  0.007478    2.917070  0.012425    0.185768  0.009852   \n",
       "9    0.006797  0.006861    2.932178  0.012301    0.185683  0.009815   \n",
       "\n",
       "         fibs            \n",
       "  interpreted  compiled  \n",
       "0    0.068568  0.006542  \n",
       "1    0.066651  0.009291  \n",
       "2    0.072890  0.006874  \n",
       "3    0.066770  0.007023  \n",
       "4    0.066646  0.007068  \n",
       "5    0.066727  0.006847  \n",
       "6    0.066956  0.006819  \n",
       "7    0.066650  0.006841  \n",
       "8    0.066633  0.006776  \n",
       "9    0.066727  0.006776  "
      ]
     },
     "execution_count": 57,
     "metadata": {},
     "output_type": "execute_result"
    }
   ],
   "source": [
    "p "
   ]
  },
  {
   "cell_type": "code",
   "execution_count": 81,
   "metadata": {
    "collapsed": false
   },
   "outputs": [
    {
     "data": {
      "text/html": [
       "<div>\n",
       "<table border=\"1\" class=\"dataframe\">\n",
       "  <thead>\n",
       "    <tr>\n",
       "      <th></th>\n",
       "      <th colspan=\"2\" halign=\"left\">hello</th>\n",
       "      <th colspan=\"2\" halign=\"left\">bottles</th>\n",
       "      <th colspan=\"2\" halign=\"left\">squares</th>\n",
       "      <th colspan=\"2\" halign=\"left\">fibs</th>\n",
       "    </tr>\n",
       "    <tr>\n",
       "      <th></th>\n",
       "      <th>interpreted</th>\n",
       "      <th>compiled</th>\n",
       "      <th>interpreted</th>\n",
       "      <th>compiled</th>\n",
       "      <th>interpreted</th>\n",
       "      <th>compiled</th>\n",
       "      <th>interpreted</th>\n",
       "      <th>compiled</th>\n",
       "    </tr>\n",
       "  </thead>\n",
       "  <tbody>\n",
       "    <tr>\n",
       "      <th>0</th>\n",
       "      <td>0.920005</td>\n",
       "      <td>0.944257</td>\n",
       "      <td>0.994495</td>\n",
       "      <td>0.004228</td>\n",
       "      <td>1.078387</td>\n",
       "      <td>0.053013</td>\n",
       "      <td>1.027589</td>\n",
       "      <td>0.098048</td>\n",
       "    </tr>\n",
       "    <tr>\n",
       "      <th>1</th>\n",
       "      <td>1.060009</td>\n",
       "      <td>0.944391</td>\n",
       "      <td>1.003410</td>\n",
       "      <td>0.004364</td>\n",
       "      <td>1.044749</td>\n",
       "      <td>0.056548</td>\n",
       "      <td>0.998858</td>\n",
       "      <td>0.139241</td>\n",
       "    </tr>\n",
       "    <tr>\n",
       "      <th>2</th>\n",
       "      <td>1.246234</td>\n",
       "      <td>0.925043</td>\n",
       "      <td>1.011900</td>\n",
       "      <td>0.004361</td>\n",
       "      <td>1.025145</td>\n",
       "      <td>0.059818</td>\n",
       "      <td>1.092357</td>\n",
       "      <td>0.103021</td>\n",
       "    </tr>\n",
       "    <tr>\n",
       "      <th>3</th>\n",
       "      <td>1.013487</td>\n",
       "      <td>1.378479</td>\n",
       "      <td>0.992970</td>\n",
       "      <td>0.004173</td>\n",
       "      <td>1.085804</td>\n",
       "      <td>0.067176</td>\n",
       "      <td>1.000645</td>\n",
       "      <td>0.105254</td>\n",
       "    </tr>\n",
       "    <tr>\n",
       "      <th>4</th>\n",
       "      <td>1.031625</td>\n",
       "      <td>0.961657</td>\n",
       "      <td>1.001024</td>\n",
       "      <td>0.004150</td>\n",
       "      <td>1.004570</td>\n",
       "      <td>0.075340</td>\n",
       "      <td>0.998783</td>\n",
       "      <td>0.105919</td>\n",
       "    </tr>\n",
       "    <tr>\n",
       "      <th>5</th>\n",
       "      <td>1.013386</td>\n",
       "      <td>0.880670</td>\n",
       "      <td>1.011045</td>\n",
       "      <td>0.004224</td>\n",
       "      <td>0.993946</td>\n",
       "      <td>0.057188</td>\n",
       "      <td>1.000002</td>\n",
       "      <td>0.102617</td>\n",
       "    </tr>\n",
       "    <tr>\n",
       "      <th>6</th>\n",
       "      <td>0.986614</td>\n",
       "      <td>0.905897</td>\n",
       "      <td>1.012360</td>\n",
       "      <td>0.004097</td>\n",
       "      <td>0.995430</td>\n",
       "      <td>0.056791</td>\n",
       "      <td>1.003428</td>\n",
       "      <td>0.102196</td>\n",
       "    </tr>\n",
       "    <tr>\n",
       "      <th>7</th>\n",
       "      <td>0.957391</td>\n",
       "      <td>0.965318</td>\n",
       "      <td>0.998976</td>\n",
       "      <td>0.005777</td>\n",
       "      <td>0.994449</td>\n",
       "      <td>0.052324</td>\n",
       "      <td>0.998844</td>\n",
       "      <td>0.102521</td>\n",
       "    </tr>\n",
       "    <tr>\n",
       "      <th>8</th>\n",
       "      <td>0.955409</td>\n",
       "      <td>1.053493</td>\n",
       "      <td>0.992410</td>\n",
       "      <td>0.004227</td>\n",
       "      <td>0.990841</td>\n",
       "      <td>0.052549</td>\n",
       "      <td>0.998580</td>\n",
       "      <td>0.101553</td>\n",
       "    </tr>\n",
       "    <tr>\n",
       "      <th>9</th>\n",
       "      <td>0.957659</td>\n",
       "      <td>0.966662</td>\n",
       "      <td>0.997550</td>\n",
       "      <td>0.004185</td>\n",
       "      <td>0.990386</td>\n",
       "      <td>0.052353</td>\n",
       "      <td>0.999998</td>\n",
       "      <td>0.101546</td>\n",
       "    </tr>\n",
       "  </tbody>\n",
       "</table>\n",
       "</div>"
      ],
      "text/plain": [
       "        hello               bottles               squares            \\\n",
       "  interpreted  compiled interpreted  compiled interpreted  compiled   \n",
       "0    0.920005  0.944257    0.994495  0.004228    1.078387  0.053013   \n",
       "1    1.060009  0.944391    1.003410  0.004364    1.044749  0.056548   \n",
       "2    1.246234  0.925043    1.011900  0.004361    1.025145  0.059818   \n",
       "3    1.013487  1.378479    0.992970  0.004173    1.085804  0.067176   \n",
       "4    1.031625  0.961657    1.001024  0.004150    1.004570  0.075340   \n",
       "5    1.013386  0.880670    1.011045  0.004224    0.993946  0.057188   \n",
       "6    0.986614  0.905897    1.012360  0.004097    0.995430  0.056791   \n",
       "7    0.957391  0.965318    0.998976  0.005777    0.994449  0.052324   \n",
       "8    0.955409  1.053493    0.992410  0.004227    0.990841  0.052549   \n",
       "9    0.957659  0.966662    0.997550  0.004185    0.990386  0.052353   \n",
       "\n",
       "         fibs            \n",
       "  interpreted  compiled  \n",
       "0    1.027589  0.098048  \n",
       "1    0.998858  0.139241  \n",
       "2    1.092357  0.103021  \n",
       "3    1.000645  0.105254  \n",
       "4    0.998783  0.105919  \n",
       "5    1.000002  0.102617  \n",
       "6    1.003428  0.102196  \n",
       "7    0.998844  0.102521  \n",
       "8    0.998580  0.101553  \n",
       "9    0.999998  0.101546  "
      ]
     },
     "execution_count": 81,
     "metadata": {},
     "output_type": "execute_result"
    }
   ],
   "source": [
    "normalised = p.copy()\n",
    "for column in normalised.columns.levels[0]:\n",
    "    normalised[column] = normalised[column] / normalised[column].interpreted.median()\n",
    "normalised"
   ]
  },
  {
   "cell_type": "code",
   "execution_count": 82,
   "metadata": {
    "collapsed": false
   },
   "outputs": [
    {
     "data": {
      "text/plain": [
       "<matplotlib.axes._subplots.AxesSubplot at 0xafa651ac>"
      ]
     },
     "execution_count": 82,
     "metadata": {},
     "output_type": "execute_result"
    },
    {
     "data": {
      "image/png": "[encoded data removed]",
      "text/plain": [
       "<matplotlib.figure.Figure at 0xafa668cc>"
      ]
     },
     "metadata": {},
     "output_type": "display_data"
    }
   ],
   "source": [
    "normalised.plot(kind='box')"
   ]
  },
  {
   "cell_type": "code",
   "execution_count": 90,
   "metadata": {
    "collapsed": false
   },
   "outputs": [
    {
     "data": {
      "text/plain": [
       "<matplotlib.axes._subplots.AxesSubplot at 0xaf9542ec>"
      ]
     },
     "execution_count": 90,
     "metadata": {},
     "output_type": "execute_result"
    },
    {
     "data": {
      "image/png": "[encoded data removed]",
      "text/plain": [
       "<matplotlib.figure.Figure at 0xaf8fb40c>"
      ]
     },
     "metadata": {},
     "output_type": "display_data"
    }
   ],
   "source": [
    "p.median().plot(kind='bar')"
   ]
  },
  {
   "cell_type": "code",
   "execution_count": 92,
   "metadata": {
    "collapsed": false
   },
   "outputs": [
    {
     "name": "stdout",
     "output_type": "stream",
     "text": [
      "bottles\n",
      "fibs\n",
      "hello\n",
      "squares\n"
     ]
    },
    {
     "data": {
      "image/png": "[encoded data removed]",
      "text/plain": [
       "<matplotlib.figure.Figure at 0xafadc4cc>"
      ]
     },
     "metadata": {},
     "output_type": "display_data"
    }
   ],
   "source": [
    "for column in p.columns.levels[0]:\n",
    "    print(column)\n",
    "    p[column].median().plot(kind='bar')"
   ]
  },
  {
   "cell_type": "code",
   "execution_count": 97,
   "metadata": {
    "collapsed": false
   },
   "outputs": [
    {
     "data": {
      "image/png": "[encoded data removed]",
      "text/plain": [
       "<matplotlib.figure.Figure at 0xafadf18c>"
      ]
     },
     "metadata": {},
     "output_type": "display_data"
    }
   ],
   "source": [
    "fig, axes = plt.subplots(nrows=1, ncols=4)\n",
    "\n",
    "for i, column in enumerate(p.columns.levels[0]):\n",
    "    p[column].median().plot(kind='bar', ax=axes[i], title=column)"
   ]
  },
  {
   "cell_type": "code",
   "execution_count": 95,
   "metadata": {
    "collapsed": true
   },
   "outputs": [],
   "source": [
    "p.plot?"
   ]
  },
  {
   "cell_type": "code",
   "execution_count": null,
   "metadata": {
    "collapsed": true
   },
   "outputs": [],
   "source": []
  }
 ],
 "metadata": {
  "kernelspec": {
   "display_name": "Python 3",
   "language": "python",
   "name": "python3"
  },
  "language_info": {
   "codemirror_mode": {
    "name": "ipython",
    "version": 3
   },
   "file_extension": ".py",
   "mimetype": "text/x-python",
   "name": "python",
   "nbconvert_exporter": "python",
   "pygments_lexer": "ipython3",
   "version": "3.4.3"
  }
 },
 "nbformat": 4,
 "nbformat_minor": 0
}
